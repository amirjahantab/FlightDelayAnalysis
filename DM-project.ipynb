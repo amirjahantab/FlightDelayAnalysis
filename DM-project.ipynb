{
 "cells": [
  {
   "cell_type": "markdown",
   "id": "2853b99f-052c-4925-a301-ee042fb7e3e8",
   "metadata": {},
   "source": [
    "<div class=\"alert\">\n",
    "    <h1 align=\"center\">Data Mining</h1>\n",
    "    <h3 align=\"center\"><a href=\"https://github.com/amirjahantab/\">Amirreza Jahantab</a></h3>\n",
    "    <h5 align=\"center\">401370007</h5>\n",
    "</div>\n"
   ]
  },
  {
   "cell_type": "markdown",
   "id": "25025f9c-a238-4bcc-ac60-d2cc1dad48cb",
   "metadata": {},
   "source": [
    "## preprocessing "
   ]
  },
  {
   "cell_type": "code",
   "execution_count": 1,
   "id": "7c0374da-f737-45f5-8aaf-317c9410a050",
   "metadata": {},
   "outputs": [],
   "source": [
    "import pandas as pd\n",
    "import numpy as np\n",
    "import re\n",
    "from sklearn.impute import KNNImputer\n",
    "from sklearn.decomposition import PCA\n",
    "from sklearn.preprocessing import StandardScaler\n",
    "import matplotlib.pyplot as plt\n",
    "import seaborn as sns"
   ]
  },
  {
   "cell_type": "code",
   "execution_count": 2,
   "id": "49b301e9-a05b-474e-b6a9-71f8991a23e7",
   "metadata": {},
   "outputs": [
    {
     "data": {
      "text/html": [
       "<div>\n",
       "<style scoped>\n",
       "    .dataframe tbody tr th:only-of-type {\n",
       "        vertical-align: middle;\n",
       "    }\n",
       "\n",
       "    .dataframe tbody tr th {\n",
       "        vertical-align: top;\n",
       "    }\n",
       "\n",
       "    .dataframe thead th {\n",
       "        text-align: right;\n",
       "    }\n",
       "</style>\n",
       "<table border=\"1\" class=\"dataframe\">\n",
       "  <thead>\n",
       "    <tr style=\"text-align: right;\">\n",
       "      <th></th>\n",
       "      <th>From_To</th>\n",
       "      <th>FlightNumber</th>\n",
       "      <th>RecentDelays</th>\n",
       "      <th>Airline</th>\n",
       "    </tr>\n",
       "  </thead>\n",
       "  <tbody>\n",
       "    <tr>\n",
       "      <th>0</th>\n",
       "      <td>Stockholm_London</td>\n",
       "      <td>10045.0</td>\n",
       "      <td>[72]</td>\n",
       "      <td>\"Swiss Air\"</td>\n",
       "    </tr>\n",
       "    <tr>\n",
       "      <th>1</th>\n",
       "      <td>Paris_Milan</td>\n",
       "      <td>NaN</td>\n",
       "      <td>[]</td>\n",
       "      <td>(Air Italy)</td>\n",
       "    </tr>\n",
       "    <tr>\n",
       "      <th>2</th>\n",
       "      <td>Brussels_Amsterdam</td>\n",
       "      <td>10065.0</td>\n",
       "      <td>[14, 16]</td>\n",
       "      <td>Emirates(7)</td>\n",
       "    </tr>\n",
       "    <tr>\n",
       "      <th>3</th>\n",
       "      <td>Paris_Stockholm</td>\n",
       "      <td>10075.0</td>\n",
       "      <td>[27, 27, 78]</td>\n",
       "      <td>(British Airways. )</td>\n",
       "    </tr>\n",
       "    <tr>\n",
       "      <th>4</th>\n",
       "      <td>London_Berlin</td>\n",
       "      <td>10085.0</td>\n",
       "      <td>[94, 29, 65]</td>\n",
       "      <td>\"Turkish Airlines\"</td>\n",
       "    </tr>\n",
       "  </tbody>\n",
       "</table>\n",
       "</div>"
      ],
      "text/plain": [
       "              From_To  FlightNumber  RecentDelays              Airline\n",
       "0    Stockholm_London       10045.0          [72]          \"Swiss Air\"\n",
       "1         Paris_Milan           NaN            []          (Air Italy)\n",
       "2  Brussels_Amsterdam       10065.0      [14, 16]          Emirates(7)\n",
       "3     Paris_Stockholm       10075.0  [27, 27, 78]  (British Airways. )\n",
       "4       London_Berlin       10085.0  [94, 29, 65]   \"Turkish Airlines\""
      ]
     },
     "execution_count": 2,
     "metadata": {},
     "output_type": "execute_result"
    }
   ],
   "source": [
    "data = pd.read_excel('datasetprojmabahes.xlsx')\n",
    "data.head()"
   ]
  },
  {
   "cell_type": "code",
   "execution_count": 3,
   "id": "32a1cd51-23ac-4e0e-a77e-27f3912960dd",
   "metadata": {},
   "outputs": [
    {
     "data": {
      "text/plain": [
       "numpy.float64"
      ]
     },
     "execution_count": 3,
     "metadata": {},
     "output_type": "execute_result"
    }
   ],
   "source": [
    "type(data.iloc[1, 1])"
   ]
  },
  {
   "cell_type": "code",
   "execution_count": 4,
   "id": "d4fd9a15-f277-4815-9793-395f239fd02a",
   "metadata": {},
   "outputs": [
    {
     "data": {
      "text/plain": [
       "From_To           0\n",
       "FlightNumber    115\n",
       "RecentDelays      0\n",
       "Airline           0\n",
       "dtype: int64"
      ]
     },
     "execution_count": 4,
     "metadata": {},
     "output_type": "execute_result"
    }
   ],
   "source": [
    "data.isnull().sum()"
   ]
  },
  {
   "cell_type": "code",
   "execution_count": 5,
   "id": "6e5b3a57-6370-4cf4-8b13-ee03b0a22e81",
   "metadata": {},
   "outputs": [
    {
     "data": {
      "text/html": [
       "<div>\n",
       "<style scoped>\n",
       "    .dataframe tbody tr th:only-of-type {\n",
       "        vertical-align: middle;\n",
       "    }\n",
       "\n",
       "    .dataframe tbody tr th {\n",
       "        vertical-align: top;\n",
       "    }\n",
       "\n",
       "    .dataframe thead th {\n",
       "        text-align: right;\n",
       "    }\n",
       "</style>\n",
       "<table border=\"1\" class=\"dataframe\">\n",
       "  <thead>\n",
       "    <tr style=\"text-align: right;\">\n",
       "      <th></th>\n",
       "      <th>From_To</th>\n",
       "      <th>FlightNumber</th>\n",
       "      <th>RecentDelays</th>\n",
       "      <th>Airline</th>\n",
       "    </tr>\n",
       "  </thead>\n",
       "  <tbody>\n",
       "    <tr>\n",
       "      <th>0</th>\n",
       "      <td>Stockholm_London</td>\n",
       "      <td>10045</td>\n",
       "      <td>[72]</td>\n",
       "      <td>\"Swiss Air\"</td>\n",
       "    </tr>\n",
       "    <tr>\n",
       "      <th>1</th>\n",
       "      <td>Paris_Milan</td>\n",
       "      <td>10055</td>\n",
       "      <td>[]</td>\n",
       "      <td>(Air Italy)</td>\n",
       "    </tr>\n",
       "    <tr>\n",
       "      <th>2</th>\n",
       "      <td>Brussels_Amsterdam</td>\n",
       "      <td>10065</td>\n",
       "      <td>[14, 16]</td>\n",
       "      <td>Emirates(7)</td>\n",
       "    </tr>\n",
       "    <tr>\n",
       "      <th>3</th>\n",
       "      <td>Paris_Stockholm</td>\n",
       "      <td>10075</td>\n",
       "      <td>[27, 27, 78]</td>\n",
       "      <td>(British Airways. )</td>\n",
       "    </tr>\n",
       "    <tr>\n",
       "      <th>4</th>\n",
       "      <td>London_Berlin</td>\n",
       "      <td>10085</td>\n",
       "      <td>[94, 29, 65]</td>\n",
       "      <td>\"Turkish Airlines\"</td>\n",
       "    </tr>\n",
       "  </tbody>\n",
       "</table>\n",
       "</div>"
      ],
      "text/plain": [
       "              From_To  FlightNumber  RecentDelays              Airline\n",
       "0    Stockholm_London         10045          [72]          \"Swiss Air\"\n",
       "1         Paris_Milan         10055            []          (Air Italy)\n",
       "2  Brussels_Amsterdam         10065      [14, 16]          Emirates(7)\n",
       "3     Paris_Stockholm         10075  [27, 27, 78]  (British Airways. )\n",
       "4       London_Berlin         10085  [94, 29, 65]   \"Turkish Airlines\""
      ]
     },
     "execution_count": 5,
     "metadata": {},
     "output_type": "execute_result"
    }
   ],
   "source": [
    "data['FlightNumber'] = data['FlightNumber'].interpolate(method='linear')\n",
    "data['FlightNumber'] = data['FlightNumber'].astype(int)\n",
    "data.head()"
   ]
  },
  {
   "cell_type": "code",
   "execution_count": 6,
   "id": "e84b3a31-b895-4925-aa1d-aa6713b485fb",
   "metadata": {},
   "outputs": [
    {
     "data": {
      "text/html": [
       "<div>\n",
       "<style scoped>\n",
       "    .dataframe tbody tr th:only-of-type {\n",
       "        vertical-align: middle;\n",
       "    }\n",
       "\n",
       "    .dataframe tbody tr th {\n",
       "        vertical-align: top;\n",
       "    }\n",
       "\n",
       "    .dataframe thead th {\n",
       "        text-align: right;\n",
       "    }\n",
       "</style>\n",
       "<table border=\"1\" class=\"dataframe\">\n",
       "  <thead>\n",
       "    <tr style=\"text-align: right;\">\n",
       "      <th></th>\n",
       "      <th>FlightNumber</th>\n",
       "      <th>RecentDelays</th>\n",
       "      <th>Airline</th>\n",
       "      <th>From</th>\n",
       "      <th>To</th>\n",
       "    </tr>\n",
       "  </thead>\n",
       "  <tbody>\n",
       "    <tr>\n",
       "      <th>0</th>\n",
       "      <td>10045</td>\n",
       "      <td>[72]</td>\n",
       "      <td>\"Swiss Air\"</td>\n",
       "      <td>Stockholm</td>\n",
       "      <td>London</td>\n",
       "    </tr>\n",
       "    <tr>\n",
       "      <th>1</th>\n",
       "      <td>10055</td>\n",
       "      <td>[]</td>\n",
       "      <td>(Air Italy)</td>\n",
       "      <td>Paris</td>\n",
       "      <td>Milan</td>\n",
       "    </tr>\n",
       "    <tr>\n",
       "      <th>2</th>\n",
       "      <td>10065</td>\n",
       "      <td>[14, 16]</td>\n",
       "      <td>Emirates(7)</td>\n",
       "      <td>Brussels</td>\n",
       "      <td>Amsterdam</td>\n",
       "    </tr>\n",
       "    <tr>\n",
       "      <th>3</th>\n",
       "      <td>10075</td>\n",
       "      <td>[27, 27, 78]</td>\n",
       "      <td>(British Airways. )</td>\n",
       "      <td>Paris</td>\n",
       "      <td>Stockholm</td>\n",
       "    </tr>\n",
       "    <tr>\n",
       "      <th>4</th>\n",
       "      <td>10085</td>\n",
       "      <td>[94, 29, 65]</td>\n",
       "      <td>\"Turkish Airlines\"</td>\n",
       "      <td>London</td>\n",
       "      <td>Berlin</td>\n",
       "    </tr>\n",
       "  </tbody>\n",
       "</table>\n",
       "</div>"
      ],
      "text/plain": [
       "   FlightNumber  RecentDelays              Airline       From         To\n",
       "0         10045          [72]          \"Swiss Air\"  Stockholm     London\n",
       "1         10055            []          (Air Italy)      Paris      Milan\n",
       "2         10065      [14, 16]          Emirates(7)   Brussels  Amsterdam\n",
       "3         10075  [27, 27, 78]  (British Airways. )      Paris  Stockholm\n",
       "4         10085  [94, 29, 65]   \"Turkish Airlines\"     London     Berlin"
      ]
     },
     "execution_count": 6,
     "metadata": {},
     "output_type": "execute_result"
    }
   ],
   "source": [
    "data[['From', 'To']] = data['From_To'].str.split('_', expand=True)\n",
    "data['From'] = data['From'].str.capitalize()\n",
    "data['To'] = data['To'].str.capitalize()\n",
    "data.drop('From_To', axis=1, inplace=True)\n",
    "data.head()"
   ]
  },
  {
   "cell_type": "code",
   "execution_count": 7,
   "id": "dbee3d8f-6f87-48b8-8ea9-5fe98575fffc",
   "metadata": {},
   "outputs": [],
   "source": [
    "data['Airline'] = data['Airline'].apply(lambda x: re.sub(r'[^a-zA-Z\\s]', '', x))\n",
    "data['Airline'] = data['Airline'].str.title()"
   ]
  },
  {
   "cell_type": "code",
   "execution_count": 8,
   "id": "0f341964-194f-4c39-8387-53853e34c430",
   "metadata": {},
   "outputs": [
    {
     "data": {
      "text/html": [
       "<div>\n",
       "<style scoped>\n",
       "    .dataframe tbody tr th:only-of-type {\n",
       "        vertical-align: middle;\n",
       "    }\n",
       "\n",
       "    .dataframe tbody tr th {\n",
       "        vertical-align: top;\n",
       "    }\n",
       "\n",
       "    .dataframe thead th {\n",
       "        text-align: right;\n",
       "    }\n",
       "</style>\n",
       "<table border=\"1\" class=\"dataframe\">\n",
       "  <thead>\n",
       "    <tr style=\"text-align: right;\">\n",
       "      <th></th>\n",
       "      <th>FlightNumber</th>\n",
       "      <th>RecentDelays</th>\n",
       "      <th>Airline</th>\n",
       "      <th>From</th>\n",
       "      <th>To</th>\n",
       "    </tr>\n",
       "  </thead>\n",
       "  <tbody>\n",
       "    <tr>\n",
       "      <th>0</th>\n",
       "      <td>10045</td>\n",
       "      <td>[72]</td>\n",
       "      <td>Swiss Air</td>\n",
       "      <td>Stockholm</td>\n",
       "      <td>London</td>\n",
       "    </tr>\n",
       "    <tr>\n",
       "      <th>1</th>\n",
       "      <td>10055</td>\n",
       "      <td>[]</td>\n",
       "      <td>Air Italy</td>\n",
       "      <td>Paris</td>\n",
       "      <td>Milan</td>\n",
       "    </tr>\n",
       "    <tr>\n",
       "      <th>2</th>\n",
       "      <td>10065</td>\n",
       "      <td>[14, 16]</td>\n",
       "      <td>Emirates</td>\n",
       "      <td>Brussels</td>\n",
       "      <td>Amsterdam</td>\n",
       "    </tr>\n",
       "    <tr>\n",
       "      <th>3</th>\n",
       "      <td>10075</td>\n",
       "      <td>[27, 27, 78]</td>\n",
       "      <td>British Airways</td>\n",
       "      <td>Paris</td>\n",
       "      <td>Stockholm</td>\n",
       "    </tr>\n",
       "    <tr>\n",
       "      <th>4</th>\n",
       "      <td>10085</td>\n",
       "      <td>[94, 29, 65]</td>\n",
       "      <td>Turkish Airlines</td>\n",
       "      <td>London</td>\n",
       "      <td>Berlin</td>\n",
       "    </tr>\n",
       "  </tbody>\n",
       "</table>\n",
       "</div>"
      ],
      "text/plain": [
       "   FlightNumber  RecentDelays           Airline       From         To\n",
       "0         10045          [72]         Swiss Air  Stockholm     London\n",
       "1         10055            []         Air Italy      Paris      Milan\n",
       "2         10065      [14, 16]          Emirates   Brussels  Amsterdam\n",
       "3         10075  [27, 27, 78]  British Airways       Paris  Stockholm\n",
       "4         10085  [94, 29, 65]  Turkish Airlines     London     Berlin"
      ]
     },
     "execution_count": 8,
     "metadata": {},
     "output_type": "execute_result"
    }
   ],
   "source": [
    "data.head()"
   ]
  },
  {
   "cell_type": "code",
   "execution_count": 9,
   "id": "8ef81b21-10b1-4352-9a1f-b890891efd16",
   "metadata": {},
   "outputs": [
    {
     "data": {
      "text/html": [
       "<div>\n",
       "<style scoped>\n",
       "    .dataframe tbody tr th:only-of-type {\n",
       "        vertical-align: middle;\n",
       "    }\n",
       "\n",
       "    .dataframe tbody tr th {\n",
       "        vertical-align: top;\n",
       "    }\n",
       "\n",
       "    .dataframe thead th {\n",
       "        text-align: right;\n",
       "    }\n",
       "</style>\n",
       "<table border=\"1\" class=\"dataframe\">\n",
       "  <thead>\n",
       "    <tr style=\"text-align: right;\">\n",
       "      <th></th>\n",
       "      <th>FlightNumber</th>\n",
       "      <th>RecentDelays</th>\n",
       "      <th>Airline</th>\n",
       "      <th>From</th>\n",
       "      <th>To</th>\n",
       "      <th>Delay_1</th>\n",
       "      <th>Delay_2</th>\n",
       "      <th>Delay_3</th>\n",
       "    </tr>\n",
       "  </thead>\n",
       "  <tbody>\n",
       "    <tr>\n",
       "      <th>0</th>\n",
       "      <td>10045</td>\n",
       "      <td>[72]</td>\n",
       "      <td>Swiss Air</td>\n",
       "      <td>Stockholm</td>\n",
       "      <td>London</td>\n",
       "      <td>72.0</td>\n",
       "      <td>NaN</td>\n",
       "      <td>NaN</td>\n",
       "    </tr>\n",
       "    <tr>\n",
       "      <th>1</th>\n",
       "      <td>10055</td>\n",
       "      <td>[]</td>\n",
       "      <td>Air Italy</td>\n",
       "      <td>Paris</td>\n",
       "      <td>Milan</td>\n",
       "      <td>NaN</td>\n",
       "      <td>NaN</td>\n",
       "      <td>NaN</td>\n",
       "    </tr>\n",
       "    <tr>\n",
       "      <th>2</th>\n",
       "      <td>10065</td>\n",
       "      <td>[14, 16]</td>\n",
       "      <td>Emirates</td>\n",
       "      <td>Brussels</td>\n",
       "      <td>Amsterdam</td>\n",
       "      <td>14.0</td>\n",
       "      <td>16.0</td>\n",
       "      <td>NaN</td>\n",
       "    </tr>\n",
       "    <tr>\n",
       "      <th>3</th>\n",
       "      <td>10075</td>\n",
       "      <td>[27, 27, 78]</td>\n",
       "      <td>British Airways</td>\n",
       "      <td>Paris</td>\n",
       "      <td>Stockholm</td>\n",
       "      <td>27.0</td>\n",
       "      <td>27.0</td>\n",
       "      <td>78.0</td>\n",
       "    </tr>\n",
       "    <tr>\n",
       "      <th>4</th>\n",
       "      <td>10085</td>\n",
       "      <td>[94, 29, 65]</td>\n",
       "      <td>Turkish Airlines</td>\n",
       "      <td>London</td>\n",
       "      <td>Berlin</td>\n",
       "      <td>94.0</td>\n",
       "      <td>29.0</td>\n",
       "      <td>65.0</td>\n",
       "    </tr>\n",
       "  </tbody>\n",
       "</table>\n",
       "</div>"
      ],
      "text/plain": [
       "   FlightNumber  RecentDelays           Airline       From         To  \\\n",
       "0         10045          [72]         Swiss Air  Stockholm     London   \n",
       "1         10055            []         Air Italy      Paris      Milan   \n",
       "2         10065      [14, 16]          Emirates   Brussels  Amsterdam   \n",
       "3         10075  [27, 27, 78]  British Airways       Paris  Stockholm   \n",
       "4         10085  [94, 29, 65]  Turkish Airlines     London     Berlin   \n",
       "\n",
       "   Delay_1  Delay_2  Delay_3  \n",
       "0     72.0      NaN      NaN  \n",
       "1      NaN      NaN      NaN  \n",
       "2     14.0     16.0      NaN  \n",
       "3     27.0     27.0     78.0  \n",
       "4     94.0     29.0     65.0  "
      ]
     },
     "execution_count": 9,
     "metadata": {},
     "output_type": "execute_result"
    }
   ],
   "source": [
    "delays = data['RecentDelays'].apply(lambda x: eval(x) if isinstance(x, str) else x)\n",
    "max_delays = max(delays.apply(len)) \n",
    "for i in range(max_delays):\n",
    "    data[f'Delay_{i+1}'] = delays.apply(lambda x: x[i] if len(x) > i else np.nan)\n",
    "data.head()"
   ]
  },
  {
   "cell_type": "code",
   "execution_count": 10,
   "id": "97a21184-5a45-478a-9545-1bdfd53718fc",
   "metadata": {},
   "outputs": [],
   "source": [
    "data.drop('RecentDelays', axis=1, inplace=True)"
   ]
  },
  {
   "cell_type": "code",
   "execution_count": 11,
   "id": "9dd5a588-38ac-4ef3-81df-cb7be4ed3787",
   "metadata": {},
   "outputs": [
    {
     "data": {
      "text/html": [
       "<div>\n",
       "<style scoped>\n",
       "    .dataframe tbody tr th:only-of-type {\n",
       "        vertical-align: middle;\n",
       "    }\n",
       "\n",
       "    .dataframe tbody tr th {\n",
       "        vertical-align: top;\n",
       "    }\n",
       "\n",
       "    .dataframe thead th {\n",
       "        text-align: right;\n",
       "    }\n",
       "</style>\n",
       "<table border=\"1\" class=\"dataframe\">\n",
       "  <thead>\n",
       "    <tr style=\"text-align: right;\">\n",
       "      <th></th>\n",
       "      <th>FlightNumber</th>\n",
       "      <th>Airline</th>\n",
       "      <th>From</th>\n",
       "      <th>To</th>\n",
       "      <th>Delay_1</th>\n",
       "      <th>Delay_2</th>\n",
       "      <th>Delay_3</th>\n",
       "    </tr>\n",
       "  </thead>\n",
       "  <tbody>\n",
       "    <tr>\n",
       "      <th>0</th>\n",
       "      <td>10045</td>\n",
       "      <td>Swiss Air</td>\n",
       "      <td>Stockholm</td>\n",
       "      <td>London</td>\n",
       "      <td>72.0</td>\n",
       "      <td>NaN</td>\n",
       "      <td>NaN</td>\n",
       "    </tr>\n",
       "    <tr>\n",
       "      <th>1</th>\n",
       "      <td>10055</td>\n",
       "      <td>Air Italy</td>\n",
       "      <td>Paris</td>\n",
       "      <td>Milan</td>\n",
       "      <td>NaN</td>\n",
       "      <td>NaN</td>\n",
       "      <td>NaN</td>\n",
       "    </tr>\n",
       "    <tr>\n",
       "      <th>2</th>\n",
       "      <td>10065</td>\n",
       "      <td>Emirates</td>\n",
       "      <td>Brussels</td>\n",
       "      <td>Amsterdam</td>\n",
       "      <td>14.0</td>\n",
       "      <td>16.0</td>\n",
       "      <td>NaN</td>\n",
       "    </tr>\n",
       "    <tr>\n",
       "      <th>3</th>\n",
       "      <td>10075</td>\n",
       "      <td>British Airways</td>\n",
       "      <td>Paris</td>\n",
       "      <td>Stockholm</td>\n",
       "      <td>27.0</td>\n",
       "      <td>27.0</td>\n",
       "      <td>78.0</td>\n",
       "    </tr>\n",
       "    <tr>\n",
       "      <th>4</th>\n",
       "      <td>10085</td>\n",
       "      <td>Turkish Airlines</td>\n",
       "      <td>London</td>\n",
       "      <td>Berlin</td>\n",
       "      <td>94.0</td>\n",
       "      <td>29.0</td>\n",
       "      <td>65.0</td>\n",
       "    </tr>\n",
       "  </tbody>\n",
       "</table>\n",
       "</div>"
      ],
      "text/plain": [
       "   FlightNumber           Airline       From         To  Delay_1  Delay_2  \\\n",
       "0         10045         Swiss Air  Stockholm     London     72.0      NaN   \n",
       "1         10055         Air Italy      Paris      Milan      NaN      NaN   \n",
       "2         10065          Emirates   Brussels  Amsterdam     14.0     16.0   \n",
       "3         10075  British Airways       Paris  Stockholm     27.0     27.0   \n",
       "4         10085  Turkish Airlines     London     Berlin     94.0     29.0   \n",
       "\n",
       "   Delay_3  \n",
       "0      NaN  \n",
       "1      NaN  \n",
       "2      NaN  \n",
       "3     78.0  \n",
       "4     65.0  "
      ]
     },
     "execution_count": 11,
     "metadata": {},
     "output_type": "execute_result"
    }
   ],
   "source": [
    "data.head()"
   ]
  },
  {
   "cell_type": "markdown",
   "id": "f1734209-24c1-4239-8941-87030b389b3c",
   "metadata": {},
   "source": [
    "## Statistical Analysis"
   ]
  },
  {
   "cell_type": "code",
   "execution_count": 12,
   "id": "bfac4fcf-aa6c-48c5-82ea-543a5c4f433c",
   "metadata": {},
   "outputs": [
    {
     "data": {
      "text/html": [
       "<div>\n",
       "<style scoped>\n",
       "    .dataframe tbody tr th:only-of-type {\n",
       "        vertical-align: middle;\n",
       "    }\n",
       "\n",
       "    .dataframe tbody tr th {\n",
       "        vertical-align: top;\n",
       "    }\n",
       "\n",
       "    .dataframe thead th {\n",
       "        text-align: right;\n",
       "    }\n",
       "</style>\n",
       "<table border=\"1\" class=\"dataframe\">\n",
       "  <thead>\n",
       "    <tr style=\"text-align: right;\">\n",
       "      <th></th>\n",
       "      <th>FlightNumber</th>\n",
       "      <th>Delay_1</th>\n",
       "      <th>Delay_2</th>\n",
       "      <th>Delay_3</th>\n",
       "    </tr>\n",
       "  </thead>\n",
       "  <tbody>\n",
       "    <tr>\n",
       "      <th>count</th>\n",
       "      <td>600.000000</td>\n",
       "      <td>433.000000</td>\n",
       "      <td>302.000000</td>\n",
       "      <td>150.000000</td>\n",
       "    </tr>\n",
       "    <tr>\n",
       "      <th>mean</th>\n",
       "      <td>13040.000000</td>\n",
       "      <td>54.903002</td>\n",
       "      <td>55.168874</td>\n",
       "      <td>53.513333</td>\n",
       "    </tr>\n",
       "    <tr>\n",
       "      <th>std</th>\n",
       "      <td>1733.493582</td>\n",
       "      <td>25.529029</td>\n",
       "      <td>26.452640</td>\n",
       "      <td>27.508324</td>\n",
       "    </tr>\n",
       "    <tr>\n",
       "      <th>min</th>\n",
       "      <td>10045.000000</td>\n",
       "      <td>10.000000</td>\n",
       "      <td>10.000000</td>\n",
       "      <td>11.000000</td>\n",
       "    </tr>\n",
       "    <tr>\n",
       "      <th>25%</th>\n",
       "      <td>11542.500000</td>\n",
       "      <td>33.000000</td>\n",
       "      <td>35.000000</td>\n",
       "      <td>30.250000</td>\n",
       "    </tr>\n",
       "    <tr>\n",
       "      <th>50%</th>\n",
       "      <td>13040.000000</td>\n",
       "      <td>55.000000</td>\n",
       "      <td>54.000000</td>\n",
       "      <td>51.500000</td>\n",
       "    </tr>\n",
       "    <tr>\n",
       "      <th>75%</th>\n",
       "      <td>14537.500000</td>\n",
       "      <td>76.000000</td>\n",
       "      <td>80.000000</td>\n",
       "      <td>78.000000</td>\n",
       "    </tr>\n",
       "    <tr>\n",
       "      <th>max</th>\n",
       "      <td>16035.000000</td>\n",
       "      <td>100.000000</td>\n",
       "      <td>100.000000</td>\n",
       "      <td>100.000000</td>\n",
       "    </tr>\n",
       "  </tbody>\n",
       "</table>\n",
       "</div>"
      ],
      "text/plain": [
       "       FlightNumber     Delay_1     Delay_2     Delay_3\n",
       "count    600.000000  433.000000  302.000000  150.000000\n",
       "mean   13040.000000   54.903002   55.168874   53.513333\n",
       "std     1733.493582   25.529029   26.452640   27.508324\n",
       "min    10045.000000   10.000000   10.000000   11.000000\n",
       "25%    11542.500000   33.000000   35.000000   30.250000\n",
       "50%    13040.000000   55.000000   54.000000   51.500000\n",
       "75%    14537.500000   76.000000   80.000000   78.000000\n",
       "max    16035.000000  100.000000  100.000000  100.000000"
      ]
     },
     "execution_count": 12,
     "metadata": {},
     "output_type": "execute_result"
    }
   ],
   "source": [
    "statistics = data[['FlightNumber', 'Delay_1', 'Delay_2', 'Delay_3']].describe()\n",
    "statistics"
   ]
  },
  {
   "cell_type": "code",
   "execution_count": 13,
   "id": "6814da0b-4ab6-4cb9-89df-13aa078367e1",
   "metadata": {},
   "outputs": [
    {
     "data": {
      "text/html": [
       "<div>\n",
       "<style scoped>\n",
       "    .dataframe tbody tr th:only-of-type {\n",
       "        vertical-align: middle;\n",
       "    }\n",
       "\n",
       "    .dataframe tbody tr th {\n",
       "        vertical-align: top;\n",
       "    }\n",
       "\n",
       "    .dataframe thead th {\n",
       "        text-align: right;\n",
       "    }\n",
       "</style>\n",
       "<table border=\"1\" class=\"dataframe\">\n",
       "  <thead>\n",
       "    <tr style=\"text-align: right;\">\n",
       "      <th></th>\n",
       "      <th>FlightNumber</th>\n",
       "      <th>Delay_1</th>\n",
       "      <th>Delay_2</th>\n",
       "      <th>Delay_3</th>\n",
       "    </tr>\n",
       "  </thead>\n",
       "  <tbody>\n",
       "    <tr>\n",
       "      <th>FlightNumber</th>\n",
       "      <td>1.000000</td>\n",
       "      <td>0.056081</td>\n",
       "      <td>0.002616</td>\n",
       "      <td>-0.157544</td>\n",
       "    </tr>\n",
       "    <tr>\n",
       "      <th>Delay_1</th>\n",
       "      <td>0.056081</td>\n",
       "      <td>1.000000</td>\n",
       "      <td>0.029720</td>\n",
       "      <td>-0.011081</td>\n",
       "    </tr>\n",
       "    <tr>\n",
       "      <th>Delay_2</th>\n",
       "      <td>0.002616</td>\n",
       "      <td>0.029720</td>\n",
       "      <td>1.000000</td>\n",
       "      <td>-0.073923</td>\n",
       "    </tr>\n",
       "    <tr>\n",
       "      <th>Delay_3</th>\n",
       "      <td>-0.157544</td>\n",
       "      <td>-0.011081</td>\n",
       "      <td>-0.073923</td>\n",
       "      <td>1.000000</td>\n",
       "    </tr>\n",
       "  </tbody>\n",
       "</table>\n",
       "</div>"
      ],
      "text/plain": [
       "              FlightNumber   Delay_1   Delay_2   Delay_3\n",
       "FlightNumber      1.000000  0.056081  0.002616 -0.157544\n",
       "Delay_1           0.056081  1.000000  0.029720 -0.011081\n",
       "Delay_2           0.002616  0.029720  1.000000 -0.073923\n",
       "Delay_3          -0.157544 -0.011081 -0.073923  1.000000"
      ]
     },
     "execution_count": 13,
     "metadata": {},
     "output_type": "execute_result"
    }
   ],
   "source": [
    "correlation_matrix = data[['FlightNumber', 'Delay_1', 'Delay_2', 'Delay_3']].corr()\n",
    "correlation_matrix"
   ]
  },
  {
   "cell_type": "code",
   "execution_count": 14,
   "id": "a2a89384-ee9d-454c-a023-6e4c3c0266b6",
   "metadata": {},
   "outputs": [
    {
     "data": {
      "image/png": "[encoded data removed]",
      "text/plain": [
       "<Figure size 640x480 with 2 Axes>"
      ]
     },
     "metadata": {},
     "output_type": "display_data"
    }
   ],
   "source": [
    "sns.heatmap(correlation_matrix, annot=True)\n",
    "plt.title('Correlation Matrix')\n",
    "plt.show()"
   ]
  },
  {
   "cell_type": "code",
   "execution_count": 15,
   "id": "01a22850-5c52-4403-8dc5-bc8ac3cbe9db",
   "metadata": {},
   "outputs": [
    {
     "data": {
      "image/png": "[encoded data removed]",
      "text/plain": [
       "<Figure size 1200x600 with 4 Axes>"
      ]
     },
     "metadata": {},
     "output_type": "display_data"
    }
   ],
   "source": [
    "data[['Delay_1', 'Delay_2', 'Delay_3']].hist(bins=20, figsize=(12, 6))\n",
    "plt.suptitle('Distribution of Delays')\n",
    "plt.show()"
   ]
  },
  {
   "cell_type": "code",
   "execution_count": 16,
   "id": "c19c1fd2-3c71-4f28-abd8-40ab4557d6d8",
   "metadata": {},
   "outputs": [
    {
     "data": {
      "image/png": "[encoded data removed]",
      "text/plain": [
       "<Figure size 640x480 with 1 Axes>"
      ]
     },
     "metadata": {},
     "output_type": "display_data"
    }
   ],
   "source": [
    "data[['Delay_1', 'Delay_2', 'Delay_3']].plot(kind='box')\n",
    "plt.suptitle('Boxplot of Delays')\n",
    "plt.show()"
   ]
  },
  {
   "cell_type": "markdown",
   "id": "8836f237-9d8e-4239-a6a5-36208f393079",
   "metadata": {},
   "source": [
    "## Extract New Features"
   ]
  },
  {
   "cell_type": "code",
   "execution_count": 17,
   "id": "e7753238-3d33-4b9f-95a6-3b061a97c090",
   "metadata": {},
   "outputs": [
    {
     "data": {
      "text/html": [
       "<div>\n",
       "<style scoped>\n",
       "    .dataframe tbody tr th:only-of-type {\n",
       "        vertical-align: middle;\n",
       "    }\n",
       "\n",
       "    .dataframe tbody tr th {\n",
       "        vertical-align: top;\n",
       "    }\n",
       "\n",
       "    .dataframe thead th {\n",
       "        text-align: right;\n",
       "    }\n",
       "</style>\n",
       "<table border=\"1\" class=\"dataframe\">\n",
       "  <thead>\n",
       "    <tr style=\"text-align: right;\">\n",
       "      <th></th>\n",
       "      <th>FlightNumber</th>\n",
       "      <th>Airline</th>\n",
       "      <th>From</th>\n",
       "      <th>To</th>\n",
       "      <th>Delay_1</th>\n",
       "      <th>Delay_2</th>\n",
       "      <th>Delay_3</th>\n",
       "      <th>Total_Delays</th>\n",
       "    </tr>\n",
       "  </thead>\n",
       "  <tbody>\n",
       "    <tr>\n",
       "      <th>0</th>\n",
       "      <td>10045</td>\n",
       "      <td>Swiss Air</td>\n",
       "      <td>Stockholm</td>\n",
       "      <td>London</td>\n",
       "      <td>72.0</td>\n",
       "      <td>NaN</td>\n",
       "      <td>NaN</td>\n",
       "      <td>1</td>\n",
       "    </tr>\n",
       "    <tr>\n",
       "      <th>1</th>\n",
       "      <td>10055</td>\n",
       "      <td>Air Italy</td>\n",
       "      <td>Paris</td>\n",
       "      <td>Milan</td>\n",
       "      <td>NaN</td>\n",
       "      <td>NaN</td>\n",
       "      <td>NaN</td>\n",
       "      <td>0</td>\n",
       "    </tr>\n",
       "    <tr>\n",
       "      <th>2</th>\n",
       "      <td>10065</td>\n",
       "      <td>Emirates</td>\n",
       "      <td>Brussels</td>\n",
       "      <td>Amsterdam</td>\n",
       "      <td>14.0</td>\n",
       "      <td>16.0</td>\n",
       "      <td>NaN</td>\n",
       "      <td>2</td>\n",
       "    </tr>\n",
       "    <tr>\n",
       "      <th>3</th>\n",
       "      <td>10075</td>\n",
       "      <td>British Airways</td>\n",
       "      <td>Paris</td>\n",
       "      <td>Stockholm</td>\n",
       "      <td>27.0</td>\n",
       "      <td>27.0</td>\n",
       "      <td>78.0</td>\n",
       "      <td>3</td>\n",
       "    </tr>\n",
       "    <tr>\n",
       "      <th>4</th>\n",
       "      <td>10085</td>\n",
       "      <td>Turkish Airlines</td>\n",
       "      <td>London</td>\n",
       "      <td>Berlin</td>\n",
       "      <td>94.0</td>\n",
       "      <td>29.0</td>\n",
       "      <td>65.0</td>\n",
       "      <td>3</td>\n",
       "    </tr>\n",
       "  </tbody>\n",
       "</table>\n",
       "</div>"
      ],
      "text/plain": [
       "   FlightNumber           Airline       From         To  Delay_1  Delay_2  \\\n",
       "0         10045         Swiss Air  Stockholm     London     72.0      NaN   \n",
       "1         10055         Air Italy      Paris      Milan      NaN      NaN   \n",
       "2         10065          Emirates   Brussels  Amsterdam     14.0     16.0   \n",
       "3         10075  British Airways       Paris  Stockholm     27.0     27.0   \n",
       "4         10085  Turkish Airlines     London     Berlin     94.0     29.0   \n",
       "\n",
       "   Delay_3  Total_Delays  \n",
       "0      NaN             1  \n",
       "1      NaN             0  \n",
       "2      NaN             2  \n",
       "3     78.0             3  \n",
       "4     65.0             3  "
      ]
     },
     "execution_count": 17,
     "metadata": {},
     "output_type": "execute_result"
    }
   ],
   "source": [
    "data['Total_Delays'] = data[['Delay_1', 'Delay_2', 'Delay_3']].notna().sum(axis=1)\n",
    "data.head()"
   ]
  },
  {
   "cell_type": "code",
   "execution_count": 18,
   "id": "5bd48652-d5d0-4dac-bd4a-896fef0b15af",
   "metadata": {},
   "outputs": [
    {
     "data": {
      "text/html": [
       "<div>\n",
       "<style scoped>\n",
       "    .dataframe tbody tr th:only-of-type {\n",
       "        vertical-align: middle;\n",
       "    }\n",
       "\n",
       "    .dataframe tbody tr th {\n",
       "        vertical-align: top;\n",
       "    }\n",
       "\n",
       "    .dataframe thead th {\n",
       "        text-align: right;\n",
       "    }\n",
       "</style>\n",
       "<table border=\"1\" class=\"dataframe\">\n",
       "  <thead>\n",
       "    <tr style=\"text-align: right;\">\n",
       "      <th></th>\n",
       "      <th>FlightNumber</th>\n",
       "      <th>Airline</th>\n",
       "      <th>From</th>\n",
       "      <th>To</th>\n",
       "      <th>Delay_1</th>\n",
       "      <th>Delay_2</th>\n",
       "      <th>Delay_3</th>\n",
       "      <th>Total_Delays</th>\n",
       "      <th>Sum_Delays</th>\n",
       "    </tr>\n",
       "  </thead>\n",
       "  <tbody>\n",
       "    <tr>\n",
       "      <th>0</th>\n",
       "      <td>10045</td>\n",
       "      <td>Swiss Air</td>\n",
       "      <td>Stockholm</td>\n",
       "      <td>London</td>\n",
       "      <td>72.0</td>\n",
       "      <td>NaN</td>\n",
       "      <td>NaN</td>\n",
       "      <td>1</td>\n",
       "      <td>72.0</td>\n",
       "    </tr>\n",
       "    <tr>\n",
       "      <th>1</th>\n",
       "      <td>10055</td>\n",
       "      <td>Air Italy</td>\n",
       "      <td>Paris</td>\n",
       "      <td>Milan</td>\n",
       "      <td>NaN</td>\n",
       "      <td>NaN</td>\n",
       "      <td>NaN</td>\n",
       "      <td>0</td>\n",
       "      <td>0.0</td>\n",
       "    </tr>\n",
       "    <tr>\n",
       "      <th>2</th>\n",
       "      <td>10065</td>\n",
       "      <td>Emirates</td>\n",
       "      <td>Brussels</td>\n",
       "      <td>Amsterdam</td>\n",
       "      <td>14.0</td>\n",
       "      <td>16.0</td>\n",
       "      <td>NaN</td>\n",
       "      <td>2</td>\n",
       "      <td>30.0</td>\n",
       "    </tr>\n",
       "    <tr>\n",
       "      <th>3</th>\n",
       "      <td>10075</td>\n",
       "      <td>British Airways</td>\n",
       "      <td>Paris</td>\n",
       "      <td>Stockholm</td>\n",
       "      <td>27.0</td>\n",
       "      <td>27.0</td>\n",
       "      <td>78.0</td>\n",
       "      <td>3</td>\n",
       "      <td>132.0</td>\n",
       "    </tr>\n",
       "    <tr>\n",
       "      <th>4</th>\n",
       "      <td>10085</td>\n",
       "      <td>Turkish Airlines</td>\n",
       "      <td>London</td>\n",
       "      <td>Berlin</td>\n",
       "      <td>94.0</td>\n",
       "      <td>29.0</td>\n",
       "      <td>65.0</td>\n",
       "      <td>3</td>\n",
       "      <td>188.0</td>\n",
       "    </tr>\n",
       "  </tbody>\n",
       "</table>\n",
       "</div>"
      ],
      "text/plain": [
       "   FlightNumber           Airline       From         To  Delay_1  Delay_2  \\\n",
       "0         10045         Swiss Air  Stockholm     London     72.0      NaN   \n",
       "1         10055         Air Italy      Paris      Milan      NaN      NaN   \n",
       "2         10065          Emirates   Brussels  Amsterdam     14.0     16.0   \n",
       "3         10075  British Airways       Paris  Stockholm     27.0     27.0   \n",
       "4         10085  Turkish Airlines     London     Berlin     94.0     29.0   \n",
       "\n",
       "   Delay_3  Total_Delays  Sum_Delays  \n",
       "0      NaN             1        72.0  \n",
       "1      NaN             0         0.0  \n",
       "2      NaN             2        30.0  \n",
       "3     78.0             3       132.0  \n",
       "4     65.0             3       188.0  "
      ]
     },
     "execution_count": 18,
     "metadata": {},
     "output_type": "execute_result"
    }
   ],
   "source": [
    "data['Sum_Delays'] = data[['Delay_1', 'Delay_2', 'Delay_3']].sum(axis=1)\n",
    "data.head()"
   ]
  },
  {
   "cell_type": "markdown",
   "id": "c2b57068-7f7e-4748-83ab-1e8dd4d0c97b",
   "metadata": {},
   "source": [
    "## PCA"
   ]
  },
  {
   "cell_type": "code",
   "execution_count": 19,
   "id": "e2f9cb1e-5c1b-4845-b5a4-12b3704033a7",
   "metadata": {},
   "outputs": [],
   "source": [
    "# Standardize\n",
    "scaler = StandardScaler()\n",
    "numerical_data = data[['FlightNumber', 'Delay_1', 'Delay_2', 'Delay_3', 'Total_Delays', 'Sum_Delays']]\n",
    "scaled_data = scaler.fit_transform(numerical_data)"
   ]
  },
  {
   "cell_type": "code",
   "execution_count": 20,
   "id": "c41854c5-5f54-4dc2-b8af-180b60c25be0",
   "metadata": {},
   "outputs": [],
   "source": [
    "scaled_data = pd.DataFrame(scaled_data)\n",
    "scaled_data.fillna(scaled_data.mean(), inplace=True)"
   ]
  },
  {
   "cell_type": "code",
   "execution_count": 21,
   "id": "7b914ba5-bd99-4c18-b299-bb628472ec4a",
   "metadata": {},
   "outputs": [],
   "source": [
    "# Singular Value Decomposition\n",
    "U, S, Vt = np.linalg.svd(scaled_data, full_matrices=False)\n",
    "pca_result = U @ np.diag(S)"
   ]
  },
  {
   "cell_type": "code",
   "execution_count": 22,
   "id": "eabda38a-4842-46a2-9029-3f48adc5670b",
   "metadata": {},
   "outputs": [
    {
     "data": {
      "text/plain": [
       "array([4.40381708e-01, 2.22017203e-01, 1.62787679e-01, 1.16099869e-01,\n",
       "       5.87101216e-02, 3.41941930e-06])"
      ]
     },
     "execution_count": 22,
     "metadata": {},
     "output_type": "execute_result"
    }
   ],
   "source": [
    "explained_variance = (S ** 2) / np.sum(S ** 2)\n",
    "explained_variance"
   ]
  },
  {
   "cell_type": "code",
   "execution_count": 23,
   "id": "e07ce53f-8232-47db-84b2-499c459d9b2a",
   "metadata": {},
   "outputs": [
    {
     "data": {
      "text/plain": [
       "array([0.44038171, 0.66239891, 0.82518659, 0.94128646, 0.99999658,\n",
       "       1.        ])"
      ]
     },
     "execution_count": 23,
     "metadata": {},
     "output_type": "execute_result"
    }
   ],
   "source": [
    "cumulative_variance = np.cumsum(explained_variance)\n",
    "cumulative_variance"
   ]
  },
  {
   "cell_type": "code",
   "execution_count": 24,
   "id": "4c0428aa-f3c4-45d5-83ad-44737a895df3",
   "metadata": {},
   "outputs": [
    {
     "data": {
      "text/plain": [
       "4"
      ]
     },
     "execution_count": 24,
     "metadata": {},
     "output_type": "execute_result"
    }
   ],
   "source": [
    "n_components = np.argmax(cumulative_variance >= 0.9) + 1\n",
    "n_components"
   ]
  },
  {
   "cell_type": "code",
   "execution_count": 25,
   "id": "23d07e40-948a-44b6-8313-60b25a6e5675",
   "metadata": {},
   "outputs": [
    {
     "data": {
      "image/png": "[encoded data removed]",
      "text/plain": [
       "<Figure size 800x600 with 1 Axes>"
      ]
     },
     "metadata": {},
     "output_type": "display_data"
    }
   ],
   "source": [
    "plt.figure(figsize=(8, 6))\n",
    "plt.scatter(pca_result[:, 0], pca_result[:, 1], c='b', edgecolors='k', label='Projected Data')\n",
    "plt.xlabel('Principal Component 1')\n",
    "plt.ylabel('Principal Component 2')\n",
    "plt.title('Projected Data after PCA')\n",
    "plt.legend()\n",
    "plt.grid()\n",
    "plt.show()"
   ]
  }
 ],
 "metadata": {
  "kernelspec": {
   "display_name": "Python 3 (ipykernel)",
   "language": "python",
   "name": "python3"
  },
  "language_info": {
   "codemirror_mode": {
    "name": "ipython",
    "version": 3
   },
   "file_extension": ".py",
   "mimetype": "text/x-python",
   "name": "python",
   "nbconvert_exporter": "python",
   "pygments_lexer": "ipython3",
   "version": "3.12.7"
  }
 },
 "nbformat": 4,
 "nbformat_minor": 5
}
